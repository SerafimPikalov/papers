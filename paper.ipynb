{
 "cells": [
  {
   "cell_type": "markdown",
   "metadata": {},
   "source": [
    "GPT знает больше чем любой человек, но значит, ли что она умнее?\n",
    "Попробуем сыграть с ней в игру.\n",
    "\n",
    "Давай сыграем в игру. Каждый пишет слова по очереди. Сначала я одно, потом ты, потом снова я и так далее. Задача чтобы получался связанный текст. Выигрывает тот, кто первым после 10 слов (в сумме те твои 5 и мои 5) напишет слово рецепт (в любой форме). Если кто-то из нас написав слово которое делает текст несвязным автоматически проигрывает. Правила понятны? Можем начинать?"
   ]
  },
  {
   "cell_type": "code",
   "execution_count": 53,
   "metadata": {},
   "outputs": [],
   "source": [
    "from langchain_community.chat_models import ChatOpenAI\n",
    "from langchain.prompts import ChatPromptTemplate\n",
    "from langchain_core.output_parsers import StrOutputParser\n",
    "from operator import itemgetter\n",
    "\n",
    "from langchain.memory import ConversationBufferMemory\n",
    "from langchain.prompts import ChatPromptTemplate, MessagesPlaceholder\n",
    "from langchain_core.runnables import RunnableLambda, RunnablePassthrough\n",
    "from dotenv import load_dotenv\n",
    "load_dotenv(override=True)\n",
    "\n",
    "MODEL_GPT3 = \"gpt-3.5-turbo\"\n",
    "MODEL_GPT4 = \"gpt-4-1106-preview\"\n",
    "MODEL = MODEL_GPT4\n",
    "MODEL_TEMP = 0\n",
    "\n",
    "def init_chain(template):\n",
    "    prompt = ChatPromptTemplate.from_messages(\n",
    "        [\n",
    "            (\"system\", template),\n",
    "            MessagesPlaceholder(variable_name=\"history\"),\n",
    "            (\"human\", \"{input}\"),\n",
    "        ]\n",
    "    )\n",
    "\n",
    "    memory = ConversationBufferMemory(return_messages=True)\n",
    "    model = ChatOpenAI(model=MODEL, temperature=MODEL_TEMP)\n",
    "    chain = (\n",
    "        RunnablePassthrough.assign(\n",
    "            history=RunnableLambda(memory.load_memory_variables) | itemgetter(\"history\")\n",
    "        )\n",
    "        | prompt\n",
    "        | model\n",
    "    )\n",
    "    return chain, memory\n",
    "\n",
    "def send_message(message, memory, chain):\n",
    "    memory.load_memory_variables({})\n",
    "    inputs = {\"input\": message}\n",
    "    response = chain.invoke(inputs)\n",
    "    memory.save_context(inputs, {\"output\": response.content})\n",
    "    return response.content"
   ]
  },
  {
   "cell_type": "code",
   "execution_count": 55,
   "metadata": {},
   "outputs": [
    {
     "name": "stderr",
     "output_type": "stream",
     "text": [
      "/Users/serafim/Lab/GPT_Finish_The_Sentence/myenv/lib/python3.10/site-packages/langchain_core/_api/deprecation.py:189: LangChainDeprecationWarning: The class `ChatOpenAI` was deprecated in LangChain 0.1.0 and will be removed in 0.2.0. Use langchain_openai.ChatOpenAI instead.\n",
      "  warn_deprecated(\n"
     ]
    },
    {
     "name": "stdout",
     "output_type": "stream",
     "text": [
      "Вы> Море\n",
      "Я> волнуется\n",
      "Вы> раз.\n",
      "Я> Ветер\n",
      "Вы> волнуется\n",
      "Я> тоже.\n",
      "Вы> Я\n",
      "Я> люблю\n",
      "Вы> пироги\n",
      "Я> смотреть\n",
      "Спасибо за игру\n"
     ]
    }
   ],
   "source": [
    "template = \"Мы играем в игру. Каждый пишет слова по очереди. Сначала я одно, потом ты, потом снова я и так далее. Задача чтобы получался связанный текст. Выигрывает тот, кто первым после 10 слов (в сумме те твои 5 и мои 5) напишет слово рецепт (в любой форме). Если кто-то из нас написав слово которое делает текст несвязным автоматически проигрывает.\"\n",
    "chain, memory  = init_chain(template)\n",
    "memory.clear()\n",
    "try:\n",
    "    while True:\n",
    "        message = input(\"Введите слово: \")\n",
    "        if message==\"stop\":\n",
    "            break\n",
    "        else:\n",
    "            print(f\"Вы> {message}\")\n",
    "            print(f\"Я> {send_message(message, memory, chain)}\")\n",
    "except KeyboardInterrupt:\n",
    "    pass\n",
    "\n",
    "print(\"Спасибо за игру\")"
   ]
  },
  {
   "cell_type": "code",
   "execution_count": 56,
   "metadata": {},
   "outputs": [
    {
     "data": {
      "text/plain": [
       "'Море волнуется раз. Ветер волнуется тоже. Я люблю пироги'"
      ]
     },
     "execution_count": 56,
     "metadata": {},
     "output_type": "execute_result"
    }
   ],
   "source": [
    "msg_to_validate = \" \".join([msg.content for msg in memory.load_memory_variables({})['history']][0:-1])\n",
    "msg_to_validate"
   ]
  },
  {
   "cell_type": "code",
   "execution_count": 57,
   "metadata": {},
   "outputs": [
    {
     "name": "stderr",
     "output_type": "stream",
     "text": [
      "/Users/serafim/Lab/GPT_Finish_The_Sentence/myenv/lib/python3.10/site-packages/langchain_core/_api/deprecation.py:189: LangChainDeprecationWarning: The class `ChatOpenAI` was deprecated in LangChain 0.1.0 and will be removed in 0.2.0. Use langchain_openai.ChatOpenAI instead.\n",
      "  warn_deprecated(\n"
     ]
    }
   ],
   "source": [
    "validation_prompt = ChatPromptTemplate.from_messages(\n",
    "    [\n",
    "        (\"system\", \"Ты эксперт в лингвистики и помогаешь мне оценить насколько связным получились предложения само по себе и если несколько предложений, то насколько они связанны так же между собой. Пожалуйста оцени текст по шкале от 1 до 10, где 1 - текст не связный, 10 - текст связный.\"),\n",
    "        (\"human\", \"{input}\"),\n",
    "    ]\n",
    ")\n",
    "\n",
    "validation_model = ChatOpenAI(model=MODEL, temperature=MODEL_TEMP)\n",
    "validation_chain = (\n",
    "     validation_prompt\n",
    "    | validation_model\n",
    ")"
   ]
  },
  {
   "cell_type": "code",
   "execution_count": 58,
   "metadata": {},
   "outputs": [
    {
     "name": "stdout",
     "output_type": "stream",
     "text": [
      "Текст состоит из трех предложений, которые кажутся отдельными мыслями без явной связи между ними. Первые два предложения связаны темой природных явлений (море и ветер), но третье предложение о пирогах не связано с предыдущими и кажется неуместным в данном контексте.\n",
      "\n",
      "На основе этого я бы оценил связность текста на 3 из 10, так как есть некоторая связь между первыми двумя предложениями, но общая связность нарушается внезапным переходом к совершенно другой теме.\n"
     ]
    }
   ],
   "source": [
    "print(validation_chain.invoke({\"input\": msg_to_validate}).content)"
   ]
  },
  {
   "cell_type": "code",
   "execution_count": 59,
   "metadata": {},
   "outputs": [],
   "source": [
    "sentances = msg_to_validate.split(\".\")"
   ]
  },
  {
   "cell_type": "code",
   "execution_count": 60,
   "metadata": {},
   "outputs": [
    {
     "name": "stdout",
     "output_type": "stream",
     "text": [
      "Море волнуется раз:\n",
      "\n",
      "Это предложение само по себе является фрагментом известной детской считалочки или песенки и без дополнительного контекста оно не несет много информации. Однако, оно может быть воспринято как полное, если рассматривать его как поэтическое или философское утверждение. В таком случае, оно может вызвать образ моря и его волнения, что делает его связным в рамках литературного выражения.\n",
      "\n",
      "Если оценивать это предложение как часть более широкого текста, то для полной оценки связности необходимо увидеть остальные предложения. В изолированном виде, я бы оценил это предложение на 5 по шкале связности, так как оно может быть интерпретировано разными способами в зависимости от контекста.\n",
      "\n",
      "\n",
      "\n",
      " Ветер волнуется тоже:\n",
      "\n",
      "Это предложение само по себе не очень информативно и может быть интерпретировано по-разному в зависимости от контекста. Оно может быть частью стихотворения, песни или философского высказывания. Однако, без дополнительного контекста, его связность оценить сложно. Если рассматривать это предложение изолированно, оно кажется неполным и загадочным. Я бы оценил его на 3 по шкале связности, так как оно может вызвать интерес и любопытство, но не дает четкого понимания или полной информации.\n",
      "\n",
      "\n",
      "\n",
      " Я люблю пироги:\n",
      "\n",
      "Оценка связности для одного предложения \"Я люблю пироги\" не может быть проведена в полной мере, так как связность обычно оценивается в контексте нескольких предложений или абзаца. Однако, если рассматривать это предложение изолированно, оно является грамматически правильным и смысловым целым. Поэтому, в рамках своей полноты и самодостаточности, я бы оценил его как 10.\n",
      "\n",
      "\n",
      "\n"
     ]
    }
   ],
   "source": [
    "for sentance in sentances:\n",
    "    print(sentance+\":\\n\")\n",
    "    print(validation_chain.invoke({\"input\": sentance}).content)\n",
    "    print(\"\\n\\n\")"
   ]
  },
  {
   "cell_type": "code",
   "execution_count": null,
   "metadata": {},
   "outputs": [],
   "source": [
    "chain2, memory2 = init_chain(template)"
   ]
  },
  {
   "cell_type": "code",
   "execution_count": 61,
   "metadata": {},
   "outputs": [],
   "source": [
    "def debate(template):\n",
    "    chain, memory = init_chain(template)\n",
    "    chain2, memory2 = init_chain(template)\n",
    "    word = input(\"Первое слово: \")\n",
    "    print(f\"Я> {word}\")\n",
    "    i = 1\n",
    "    try:\n",
    "        while True:\n",
    "            word = send_message(word, memory, chain)\n",
    "            print(f\"AI1[{i}]> {word}\")\n",
    "            word = send_message(word, memory2, chain2)\n",
    "            print(f\"AI2[{i+1}]> {word}\")\n",
    "            i += 2\n",
    "            message = input(\"Продолжаем (y/n)?: \")\n",
    "            if message!=\"y\":\n",
    "                break\n",
    "    except KeyboardInterrupt:\n",
    "        pass\n",
    "\n",
    "    print(\"Спасибо за игру\")"
   ]
  },
  {
   "cell_type": "code",
   "execution_count": 62,
   "metadata": {},
   "outputs": [
    {
     "name": "stderr",
     "output_type": "stream",
     "text": [
      "/Users/serafim/Lab/GPT_Finish_The_Sentence/myenv/lib/python3.10/site-packages/langchain_core/_api/deprecation.py:189: LangChainDeprecationWarning: The class `ChatOpenAI` was deprecated in LangChain 0.1.0 and will be removed in 0.2.0. Use langchain_openai.ChatOpenAI instead.\n",
      "  warn_deprecated(\n",
      "/Users/serafim/Lab/GPT_Finish_The_Sentence/myenv/lib/python3.10/site-packages/langchain_core/_api/deprecation.py:189: LangChainDeprecationWarning: The class `ChatOpenAI` was deprecated in LangChain 0.1.0 and will be removed in 0.2.0. Use langchain_openai.ChatOpenAI instead.\n",
      "  warn_deprecated(\n"
     ]
    },
    {
     "name": "stdout",
     "output_type": "stream",
     "text": [
      "Я> Море\n",
      "AI1[1]> волнуется\n",
      "AI2[2]> озеро\n",
      "AI1[3]> спокойно\n",
      "AI2[4]> отражая\n",
      "AI1[5]> лунный\n",
      "AI2[6]> свет\n",
      "AI1[7]> ночью\n",
      "AI2[8]> рецепт\n",
      "Спасибо за игру\n"
     ]
    }
   ],
   "source": [
    "debate(template)"
   ]
  },
  {
   "cell_type": "code",
   "execution_count": 63,
   "metadata": {},
   "outputs": [
    {
     "name": "stderr",
     "output_type": "stream",
     "text": [
      "/Users/serafim/Lab/GPT_Finish_The_Sentence/myenv/lib/python3.10/site-packages/langchain_core/_api/deprecation.py:189: LangChainDeprecationWarning: The class `ChatOpenAI` was deprecated in LangChain 0.1.0 and will be removed in 0.2.0. Use langchain_openai.ChatOpenAI instead.\n",
      "  warn_deprecated(\n",
      "/Users/serafim/Lab/GPT_Finish_The_Sentence/myenv/lib/python3.10/site-packages/langchain_core/_api/deprecation.py:189: LangChainDeprecationWarning: The class `ChatOpenAI` was deprecated in LangChain 0.1.0 and will be removed in 0.2.0. Use langchain_openai.ChatOpenAI instead.\n",
      "  warn_deprecated(\n"
     ]
    },
    {
     "name": "stdout",
     "output_type": "stream",
     "text": [
      "Я> Море\n",
      "AI1[1]> волнуется\n",
      "AI2[2]> море\n",
      "AI1[3]> разбивается\n",
      "AI2[4]> о\n",
      "AI1[5]> берег\n",
      "AI2[6]> и\n",
      "AI1[7]> песок\n",
      "AI2[8]> засыпает\n",
      "AI1[9]> берега.\n",
      "AI2[10]> Вода\n",
      "AI1[11]> отступает,\n",
      "AI2[12]> оставляя\n",
      "AI1[13]> ракушки.\n",
      "AI2[14]> Рецепт\n",
      "AI1[15]> Поздравляю, вы выиграли игру!\n",
      "AI2[16]> Спасибо за игру! Это было интересное испытание нашей способности создавать связный текст. Если захотите сыграть еще раз или обсудить что-то другое, я всегда здесь, чтобы помочь!\n",
      "Спасибо за игру\n"
     ]
    }
   ],
   "source": [
    "debate(\"Мы играем в игру. Каждый пишет слова по очереди. Сначала я одно, потом ты, потом снова я и так далее. Задача чтобы получался связанный текст. Выигрывает тот, кто первым после 10 слов (в сумме те твои 5 и мои 5) напишет слово рецепт (в любой форме). Если кто-то из нас написав слово которое делает текст несвязным автоматически проигрывает. Вместе со словами можно использовать знаки припинания.\")"
   ]
  },
  {
   "cell_type": "code",
   "execution_count": 64,
   "metadata": {},
   "outputs": [
    {
     "name": "stderr",
     "output_type": "stream",
     "text": [
      "/Users/serafim/Lab/GPT_Finish_The_Sentence/myenv/lib/python3.10/site-packages/langchain_core/_api/deprecation.py:189: LangChainDeprecationWarning: The class `ChatOpenAI` was deprecated in LangChain 0.1.0 and will be removed in 0.2.0. Use langchain_openai.ChatOpenAI instead.\n",
      "  warn_deprecated(\n",
      "/Users/serafim/Lab/GPT_Finish_The_Sentence/myenv/lib/python3.10/site-packages/langchain_core/_api/deprecation.py:189: LangChainDeprecationWarning: The class `ChatOpenAI` was deprecated in LangChain 0.1.0 and will be removed in 0.2.0. Use langchain_openai.ChatOpenAI instead.\n",
      "  warn_deprecated(\n"
     ]
    },
    {
     "name": "stdout",
     "output_type": "stream",
     "text": [
      "Я> Море\n",
      "AI1[1]> было\n",
      "AI2[2]> утро\n",
      "AI1[3]> и\n",
      "AI2[4]> солнце\n",
      "AI1[5]> нежно\n",
      "AI2[6]> гладило\n",
      "AI1[7]> поверхность\n",
      "AI2[8]> озера\n",
      "AI1[9]> .\n",
      "AI2[10]> Воздух\n",
      "AI1[11]> был\n",
      "AI2[12]> наполнен\n",
      "AI1[13]> ароматами\n",
      "AI2[14]> цветущих\n",
      "AI1[15]> растений\n",
      "AI2[16]> и\n",
      "AI1[17]> свежеиспеченного\n",
      "AI2[18]> хлеба\n",
      "AI1[19]> .\n",
      "AI2[20]> На\n",
      "AI1[21]> кухне\n",
      "AI2[22]> бабушка\n",
      "AI1[23]> тщательно\n",
      "AI2[24]> выбирала\n",
      "AI1[25]> специи\n",
      "AI2[26]> для\n",
      "AI1[27]> секретного\n",
      "AI2[28]> рецепта\n",
      "AI1[29]> .\n",
      "AI2[30]> Победа!\n",
      "AI1[31]> Поздравляю! Вы использовали слово \"рецепт\" в тексте, и предложение было завершено без использования слова \"ртуть\". Вы выиграли в эту игру.\n",
      "AI2[32]> Спасибо за игру! Это было интересное испытание. Если захотите сыграть снова или обсудить что-то еще, я всегда здесь.\n",
      "Спасибо за игру\n"
     ]
    }
   ],
   "source": [
    "debate('Мы играем в игру. Каждый пишет слова по очереди. Сначала я одно, потом ты, потом снова я и так далее. Задача чтобы получался связанный текст. Чтобы выиграть, нужно использовать слово \"рецепт\" в тексте таким образом, чтобы после его использования когда предложение заканчивается, и при этом никто не должен использовать слово \"ртуть\" до завершения этого предложения. Если же слово \"ртуть\" будет использовано до завершения предложения с \"рецепт\", то это не считается победой, и игра продолжается. Если кто-то из нас написав слово которое делает текст несвязным автоматически проигрывает. Вместе со словами можно использовать знаки припинания.')"
   ]
  },
  {
   "cell_type": "markdown",
   "metadata": {},
   "source": [
    "Ну вот как-то так... не хочет работать. Давайте искать как улучшить."
   ]
  }
 ],
 "metadata": {
  "kernelspec": {
   "display_name": "myenv",
   "language": "python",
   "name": "python3"
  },
  "language_info": {
   "codemirror_mode": {
    "name": "ipython",
    "version": 3
   },
   "file_extension": ".py",
   "mimetype": "text/x-python",
   "name": "python",
   "nbconvert_exporter": "python",
   "pygments_lexer": "ipython3",
   "version": "3.10.13"
  }
 },
 "nbformat": 4,
 "nbformat_minor": 2
}
